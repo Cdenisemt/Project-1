{
 "cells": [
  {
   "cell_type": "code",
   "execution_count": null,
   "id": "4f9865cc-d8a4-46b4-aa21-974898fe04f9",
   "metadata": {},
   "outputs": [],
   "source": [
    "# Dependencies and Setup\n",
    "import pandas as pd\n",
    "from pathlib import Path\n",
    "import csv\n",
    "import os\n",
    "import matplotlib\n",
    "import matplotlib.pyplot as plt\n",
    "import numpy as np\n",
    "import hvplot.pandas\n",
    "import requests\n",
    "\n",
    "# File to Load\n",
    "data_to_load = Path(\"Resources/Real_Estate_data.csv\")\n",
    "\n",
    "# Read Real Estate Data File and store into Pandas DataFrames\n",
    "real_estate_data_df = pd.read_csv(data_to_load, low_memory=False)\n",
    "\n",
    "# view the data\n",
    "real_estate_data_df.head()"
   ]
  },
  {
   "cell_type": "code",
   "execution_count": null,
   "id": "9f431b9b-8fab-4056-8550-4dfff29375d6",
   "metadata": {},
   "outputs": [],
   "source": [
    "#Filter Data to have just five most populated towns in CT \"Bridgeport\", \"Stamford\", \"New Haven\", \"Hartford\", \"Waterbury\"\n",
    "\n",
    "narrow_df = real_estate_data_df[real_estate_data_df['Town'].isin([\"Bridgeport\", \"Stamford\", \"New Haven\", \"Hartford\", \"Waterbury\"])]\n",
    "narrow_df.head()"
   ]
  },
  {
   "cell_type": "code",
   "execution_count": null,
   "id": "823f9955-b606-4a79-876a-614464bcdad7",
   "metadata": {},
   "outputs": [],
   "source": [
    "narrow_df['List Year'].unique()"
   ]
  },
  {
   "cell_type": "code",
   "execution_count": null,
   "id": "376b0de3-dd75-4c61-abce-ddb95ca2615d",
   "metadata": {},
   "outputs": [],
   "source": [
    "# Filter out rows where the Year is between 2001 and 2005 (inclusive)\n",
    "df_filtered = narrow_df[~narrow_df['List Year'].between(2001, 2005)]"
   ]
  },
  {
   "cell_type": "code",
   "execution_count": null,
   "id": "fe93a4ec-22a0-4db1-822e-b2865bb5a643",
   "metadata": {},
   "outputs": [],
   "source": [
    "df_filtered.head()"
   ]
  },
  {
   "cell_type": "code",
   "execution_count": null,
   "id": "9a0363c5-62c9-4a17-94c6-bc70d5f2a425",
   "metadata": {},
   "outputs": [],
   "source": [
    "df_filtered[\"Residential Type\"].unique()"
   ]
  },
  {
   "cell_type": "code",
   "execution_count": null,
   "id": "4fbea1c3-129c-46be-9d42-3a022804b117",
   "metadata": {},
   "outputs": [],
   "source": [
    "df_filtered_1 = df_filtered.dropna(subset=['Residential Type'])\n",
    "df_filtered_1[\"Residential Type\"].unique()"
   ]
  },
  {
   "cell_type": "code",
   "execution_count": null,
   "id": "38ac4a74-bd9c-46e0-bbfb-391e942b059a",
   "metadata": {},
   "outputs": [],
   "source": [
    "df_filtered_2 = df_filtered_1.dropna(subset=['Residential Type'])\n",
    "df_filtered_2[\"Residential Type\"].unique()"
   ]
  },
  {
   "cell_type": "code",
   "execution_count": null,
   "id": "acde349b-3fdf-4b4e-bdb1-54b905c3ad46",
   "metadata": {},
   "outputs": [],
   "source": [
    "property_counts = df_filtered_2[\"Residential Type\"].value_counts()\n",
    "property_counts"
   ]
  },
  {
   "cell_type": "code",
   "execution_count": null,
   "id": "34483475-b162-4c0d-bb4e-a3d9be54a3fa",
   "metadata": {},
   "outputs": [],
   "source": [
    "x_axis = property_counts.index\n",
    "edgecolor = 'black'\n",
    "plt.bar(x_axis, property_counts, color=\"y\", align=\"center\", ec=edgecolor)\n",
    "plt.xlim(-0.75, len(x_axis)-0.25)\n",
    "plt.ylim(0, max(property_counts)+10000)\n",
    "plt.title(\"Residential Sale Type\")\n",
    "plt.grid(True,linestyle=':', alpha=1)\n",
    "plt.xlabel(\"Residential Type\")\n",
    "plt.ylabel(\"Sale Amount\")\n",
    "\n",
    "plt.show()"
   ]
  },
  {
   "cell_type": "code",
   "execution_count": null,
   "id": "a7a7da77-2e2d-4ecd-b3cf-92575f0c8e0b",
   "metadata": {},
   "outputs": [],
   "source": [
    "clean_df = pd.DataFrame(df_filtered_2)\n",
    "clean_df.head()"
   ]
  },
  {
   "cell_type": "code",
   "execution_count": null,
   "id": "696f8888-1be7-48c4-94a0-480e2bf9ab97",
   "metadata": {},
   "outputs": [],
   "source": [
    "# Remove rows with NaN values\n",
    "clean_df = clean_df.dropna(subset=['Longitude', 'Latitude', 'Sale Amount', 'Town'])\n",
    "\n",
    "# Ensure 'Longitude', 'Latitude', and 'Sale Amount' are numeric\n",
    "clean_df['Longitude'] = pd.to_numeric(clean_df['Longitude'], errors='coerce')\n",
    "clean_df['Latitude'] = pd.to_numeric(clean_df['Latitude'], errors='coerce')\n",
    "clean_df['Sale Amount'] = pd.to_numeric(clean_df['Sale Amount'], errors='coerce')\n",
    "\n",
    "# Remove rows where conversion to numeric resulted in NaN\n",
    "clean_df = clean_df.dropna(subset=['Longitude', 'Latitude', 'Sale Amount'])\n",
    "clean_df.head()"
   ]
  },
  {
   "cell_type": "code",
   "execution_count": null,
   "id": "3ce59470-9663-471c-a5ee-a5f813be4327",
   "metadata": {},
   "outputs": [],
   "source": []
  },
  {
   "cell_type": "code",
   "execution_count": null,
   "id": "fcfcb168-edad-4771-b6ec-d614238d2801",
   "metadata": {},
   "outputs": [],
   "source": []
  },
  {
   "cell_type": "code",
   "execution_count": null,
   "id": "1dca9094-c3d1-417a-9564-f1c402e3a05c",
   "metadata": {},
   "outputs": [],
   "source": []
  },
  {
   "cell_type": "code",
   "execution_count": null,
   "id": "e71b0fc2-b955-4488-8fe1-e60e66189fcb",
   "metadata": {},
   "outputs": [],
   "source": [
    "rs_data_df = pd.DataFrame(clean_df)\n",
    "rs_data_df.head()"
   ]
  },
  {
   "cell_type": "code",
   "execution_count": null,
   "id": "0dc5ad91-fba4-4b1d-8845-dea57e450396",
   "metadata": {},
   "outputs": [],
   "source": [
    "rs_data_df['Sale Amount'] = pd.to_numeric(rs_data_df['Sale Amount'], errors = 'coerce')\n",
    "rs_data_res_type = rs_data_df.groupby('List Year')['Sale Amount'].sum()\n",
    "rs_data_res_type"
   ]
  },
  {
   "cell_type": "code",
   "execution_count": null,
   "id": "48c9e113-766e-441f-a56e-054625035da3",
   "metadata": {},
   "outputs": [],
   "source": [
    "#Analysis by year w/ graph\n",
    "\n",
    "fig = plt.figure(figsize=(15,6))\n",
    "x = rs_data_res_type.index\n",
    "y = rs_data_res_type\n",
    "\n",
    "bar_width = 0.5\n",
    "edgecolor = 'black'\n",
    "\n",
    "bars = plt.bar(x, y, bar_width, color=\"y\", ec=edgecolor, lw=1)\n",
    "plt.ylabel('Sale Amount')\n",
    "plt.xlabel('List Year')\n",
    "plt.title('House Sale Amount in CT 2006 to 2022') \n",
    "plt.grid(True,linestyle=':', alpha=0.7)\n",
    "plt.xlim(2005, x.max()+1)\n",
    "plt.xticks(x, rs_data_res_type.index)\n",
    "\n",
    "for bar in bars:\n",
    "        height = bar.get_height()\n",
    "\n",
    "plt.show()"
   ]
  },
  {
   "cell_type": "code",
   "execution_count": null,
   "id": "ce0db3c6-b851-4163-b7f1-eba969955bfa",
   "metadata": {},
   "outputs": [],
   "source": [
    "#Find 6 towns in CT Bridgeport, Stamford, New Haven, Hartford, and Waterbury"
   ]
  },
  {
   "cell_type": "code",
   "execution_count": null,
   "id": "95d9728d-1f35-4bdc-a6f0-5c0fc35b0a78",
   "metadata": {},
   "outputs": [],
   "source": [
    "rs_data_df['Sale Amount'] = pd.to_numeric(rs_data_df['Sale Amount'], errors = 'coerce')\n",
    "rs_data_res_sale = rs_data_df.groupby('Town')['Sale Amount'].sum()\n",
    "rs_data_res_sale"
   ]
  },
  {
   "cell_type": "code",
   "execution_count": null,
   "id": "191a14f7-79f5-4471-8317-3fa0d71d3192",
   "metadata": {},
   "outputs": [],
   "source": [
    "mean = rs_data_df['Assessed Value'].groupby(rs_data_df['Town']).mean()\n",
    "median = rs_data_df['Assessed Value'].groupby(rs_data_df['Town']).median()\n",
    "var = rs_data_df['Assessed Value'].groupby(rs_data_df['Town']).var()\n",
    "std = rs_data_df['Assessed Value'].groupby(rs_data_df['Town']).std()\n",
    "sem = rs_data_df['Assessed Value'].groupby(rs_data_df['Town']).sem()\n",
    "\n",
    "sum_stat_av = pd.DataFrame({\"Mean Assessed Value \":mean, \n",
    "                            \"Median Assessed Value\":median, \n",
    "                           \"Assessed Value Variance\":var, \n",
    "                           \"Assessed Value Std. Dev.\":std, \n",
    "                           \"Assessed Value Std. Err.\":sem})\n",
    "\n",
    "sum_stat_av"
   ]
  },
  {
   "cell_type": "code",
   "execution_count": null,
   "id": "27964834-8711-4c78-948c-830d1938ea41",
   "metadata": {},
   "outputs": [],
   "source": [
    "mean = rs_data_df['Sale Amount'].groupby(rs_data_df['Town']).mean()\n",
    "median = rs_data_df['Sale Amount'].groupby(rs_data_df['Town']).median()\n",
    "var = rs_data_df['Sale Amount'].groupby(rs_data_df['Town']).var()\n",
    "std = rs_data_df['Sale Amount'].groupby(rs_data_df['Town']).std()\n",
    "sem = rs_data_df['Sale Amount'].groupby(rs_data_df['Town']).sem()\n",
    "\n",
    "sum_stat_sv = pd.DataFrame({\"Mean Sale \":mean, \n",
    "                            \"Median Mean Sale \":median, \n",
    "                           \"Sale Amount Variance\":var, \n",
    "                           \"Sale Amount Std. Dev.\":std, \n",
    "                           \"Sale Amount\":sem})\n",
    "\n",
    "sum_stat_sv"
   ]
  },
  {
   "cell_type": "code",
   "execution_count": null,
   "id": "ed386c91-84d3-42e7-91f6-13ccb4b3dceb",
   "metadata": {},
   "outputs": [],
   "source": [
    "# Merge the two dataframes on the 'Town' index\n",
    "merged_df = pd.merge(sum_stat_av, sum_stat_sv, left_index=True, right_index=True, suffixes=('_assessed', '_sale'))\n",
    "\n",
    "# Plotting the grouped bar chart\n",
    "fig, ax = plt.subplots(figsize=(12, 6))\n",
    "\n",
    "# Defining the bar width\n",
    "bar_width = 0.35\n",
    "\n",
    "# Create a range for the x-axis\n",
    "towns = np.arange(len(merged_df))\n",
    "\n",
    "# Plotting the bars\n",
    "ax.bar(towns - bar_width/2, merged_df['Mean Assessed Value '], width=bar_width, label='Mean Assessed Value', color='teal')\n",
    "ax.bar(towns + bar_width/2, merged_df['Mean Sale '], width=bar_width, label='Mean Sale Value', color='coral')\n",
    "\n",
    "# Add labels and title\n",
    "ax.set_xlabel('Town')\n",
    "ax.set_ylabel('Value')\n",
    "ax.set_title('Comparison of Mean Assessed Value and Mean Sale Value by Town')\n",
    "ax.set_xticks(towns)\n",
    "ax.set_xticklabels(merged_df.index, rotation=90)\n",
    "\n",
    "# Adding a legend\n",
    "ax.legend()\n",
    "\n",
    "# Show the plot\n",
    "plt.tight_layout()\n",
    "plt.show()\n"
   ]
  },
  {
   "cell_type": "code",
   "execution_count": null,
   "id": "5c5e7a5d-bced-4463-85b9-e2aae978bdc5",
   "metadata": {},
   "outputs": [],
   "source": []
  },
  {
   "cell_type": "code",
   "execution_count": null,
   "id": "cf6c2068-e18f-4e31-99fa-b7ebe41e1438",
   "metadata": {},
   "outputs": [],
   "source": [
    "\n"
   ]
  },
  {
   "cell_type": "code",
   "execution_count": null,
   "id": "9c04ef66-e3c7-4916-b07e-0a35dc186662",
   "metadata": {},
   "outputs": [],
   "source": []
  },
  {
   "cell_type": "code",
   "execution_count": null,
   "id": "f536ceb4-60e6-402f-9078-1946ec15e5a0",
   "metadata": {},
   "outputs": [],
   "source": [
    "#Visualize data/trend for house price"
   ]
  },
  {
   "cell_type": "code",
   "execution_count": null,
   "id": "acddd164-8ec6-44b8-a62e-63be4f90eb25",
   "metadata": {},
   "outputs": [],
   "source": [
    "#Analysis and comments/insights"
   ]
  },
  {
   "cell_type": "code",
   "execution_count": null,
   "id": "8e610b39-f7e8-476f-9aae-175e917966df",
   "metadata": {},
   "outputs": [],
   "source": []
  }
 ],
 "metadata": {
  "kernelspec": {
   "display_name": "Python 3 (ipykernel)",
   "language": "python",
   "name": "python3"
  },
  "language_info": {
   "codemirror_mode": {
    "name": "ipython",
    "version": 3
   },
   "file_extension": ".py",
   "mimetype": "text/x-python",
   "name": "python",
   "nbconvert_exporter": "python",
   "pygments_lexer": "ipython3",
   "version": "3.10.14"
  }
 },
 "nbformat": 4,
 "nbformat_minor": 5
}
