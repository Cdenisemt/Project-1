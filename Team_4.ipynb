{
 "cells": [
  {
   "cell_type": "code",
   "execution_count": null,
   "id": "4f9865cc-d8a4-46b4-aa21-974898fe04f9",
   "metadata": {},
   "outputs": [],
   "source": [
    "# Dependencies and Setup\n",
    "import pandas as pd\n",
    "from pathlib import Path\n",
    "import csv\n",
    "import os\n",
<<<<<<< HEAD
    "import matplotlib\n",
    "import numpy as np\n",
    "import hvplot.pandas\n",
    "import requests\n",
    "import gmaps\n",
    "import matplotlib.pyplot as plt\n",
    "import geopandas as gpd\n",
    "from shapely.geometry import Point\n",
    "import warnings\n",
=======
    "import matplotlib.pyplot as plt\n",
    "import numpy as np\n",
>>>>>>> 13833d311cea42b1375611bc12f87eeee02daa0d
    "\n",
    "\n",
    "# File to Load\n",
    "data_to_load = Path(\"Resources/Real_Estate_data.csv\")\n",
    "\n",
    "# Read Real Estate Data File and store into Pandas DataFrames\n",
    "real_estate_data_df = pd.read_csv(data_to_load, low_memory=False)\n",
    "\n",
    "# view the data\n",
    "real_estate_data_df.head()"
   ]
  },
  {
   "cell_type": "code",
   "execution_count": null,
   "id": "823f9955-b606-4a79-876a-614464bcdad7",
   "metadata": {},
   "outputs": [],
   "source": [
    "real_estate_data_df['List Year']"
   ]
  },
  {
   "cell_type": "code",
   "execution_count": null,
   "id": "0fc9f48c-d99f-4fe6-8c9d-2bd9d9f9b294",
   "metadata": {},
   "outputs": [],
   "source": [
    "#Filter Data to have just five most populated towns in CT \"Bridgeport\", \"Stamford\", \"New Haven\", \"Hartford\", \"Waterbury\"\n",
    "\n",
    "narrow_df = real_estate_data_df[real_estate_data_df['Town'].isin([\"Bridgeport\", \"Stamford\", \"New Haven\", \"Hartford\", \"Waterbury\"])]\n",
    "narrow_df.head()"
   ]
  },
  {
   "cell_type": "code",
   "execution_count": null,
   "id": "c67262f4-a3a3-48f9-aac7-f53d3f9288a3",
   "metadata": {},
   "outputs": [],
   "source": [
    "# Filter out rows where the Year is between 2001 and 2005 (inclusive)\n",
    "df_filtered = narrow_df[~narrow_df['List Year'].between(2001, 2005)]"
   ]
  },
  {
   "cell_type": "code",
   "execution_count": null,
   "id": "376b0de3-dd75-4c61-abce-ddb95ca2615d",
   "metadata": {},
   "outputs": [],
   "source": [
    "# Filter out rows where the Year is between 2001 and 2005 (inclusive)\n",
    "df_filtered1 = df_filtered[~df_filtered['List Year'].between(2001, 2005)]"
   ]
  },
  {
   "cell_type": "code",
   "execution_count": null,
   "id": "fe93a4ec-22a0-4db1-822e-b2865bb5a643",
   "metadata": {},
   "outputs": [],
   "source": [
    "df_filtered1.head()"
   ]
  },
  {
   "cell_type": "code",
   "execution_count": null,
   "id": "cff1dfe7-c19d-461a-a40a-9d6e8715054b",
   "metadata": {},
   "outputs": [],
   "source": [
    "df_filtered1[\"List Year\"]"
   ]
  },
  {
   "cell_type": "code",
   "execution_count": null,
   "id": "9a0363c5-62c9-4a17-94c6-bc70d5f2a425",
   "metadata": {},
   "outputs": [],
   "source": [
    "df_filtered1[\"Property Type\"].unique()"
   ]
  },
  {
   "cell_type": "code",
   "execution_count": null,
   "id": "4fbea1c3-129c-46be-9d42-3a022804b117",
   "metadata": {},
   "outputs": [],
   "source": [
    "df_filtered_1 = df_filtered1.dropna(subset=['Property Type'])\n",
    "df_filtered_1[\"Property Type\"].unique()"
   ]
  },
  {
   "cell_type": "code",
   "execution_count": null,
   "id": "be6e2f7e-c22d-41e3-b785-54fd3ee04ce9",
   "metadata": {},
   "outputs": [],
   "source": [
    "df_filtered_1[\"Residential Type\"].unique()"
   ]
  },
  {
   "cell_type": "code",
   "execution_count": null,
   "id": "38ac4a74-bd9c-46e0-bbfb-391e942b059a",
   "metadata": {},
   "outputs": [],
   "source": [
    "df_filtered_2 = df_filtered_1.dropna(subset=['Residential Type'])\n",
    "df_filtered_2[\"Residential Type\"].unique()"
   ]
  },
  {
   "cell_type": "code",
   "execution_count": null,
   "id": "19bc2a50-653a-48e4-bc9c-5f22784768a2",
   "metadata": {},
   "outputs": [],
   "source": [
    "df_filtered_2[\"Longitude\"].unique()"
   ]
  },
  {
   "cell_type": "code",
   "execution_count": null,
   "id": "acde349b-3fdf-4b4e-bdb1-54b905c3ad46",
   "metadata": {},
   "outputs": [],
   "source": [
    "property_counts = df_filtered_2[\"Residential Type\"].value_counts()\n",
    "property_counts"
   ]
  },
  {
   "cell_type": "code",
   "execution_count": null,
   "id": "7267b5f3-8411-481c-8320-944579afa36f",
   "metadata": {},
   "outputs": [],
   "source": [
    "x_axis = property_counts.index\n",
    "edgecolor = 'black'\n",
    "plt.bar(x_axis, property_counts, color=\"y\", align=\"center\", ec=edgecolor)\n",
    "plt.xlim(-0.75, len(x_axis)-0.25)\n",
    "plt.ylim(0, max(property_counts)+10000)\n",
    "plt.title(\"Residential Sale Type\")\n",
    "plt.grid(True,linestyle=':', alpha=1)\n",
    "plt.xlabel(\"Residential Type\")\n",
    "plt.ylabel(\"Sale Amount\")\n",
    "\n",
    "plt.show()"
   ]
  },
  {
   "cell_type": "code",
   "execution_count": null,
   "id": "e71b0fc2-b955-4488-8fe1-e60e66189fcb",
   "metadata": {},
   "outputs": [],
   "source": [
    "rs_data_df = pd.DataFrame(df_filtered_2)\n",
    "rs_data_df.head()"
   ]
  },
  {
   "cell_type": "code",
<<<<<<< HEAD
   "execution_count": null,
   "id": "2966ed13-204c-4c28-b1ed-c16292a3d4a1",
   "metadata": {},
   "outputs": [],
   "source": [
    "#import plotly.express as px\n",
    "\n",
    "# Plotting geographical scatter plot\n",
    "#fig = px.scatter_geo(rs_data_df,\n",
    "                     lat=rs_data_df['Latitude'],\n",
    "                     lon=rs_data_df['Longitude'],\n",
    "                     size=\"Sale Amount\",  # Size of the points based on Sale Amount\n",
    "                     color=\"Town\",  # Color of the points based on Town\n",
    "                     size_max=50,  # Max size of the bubbles\n",
    "                     hover_name=\"Town\",  # Hover information to display Town name\n",
    "                     title=\"Geographical Distribution of Sale Amount in Connecticut\")\n",
    "\n",
    "# Update the layout to focus on Connecticut within the US\n",
    "#fig.update_geos(\n",
    "    scope=\"usa\",  # Limits the map to show only the US\n",
    "    projection_type=\"albers usa\",  # Suitable projection for US maps\n",
    "    showland=True,  # Shows land areas\n",
    "    landcolor=\"lightgray\",  # Color of land\n",
    "    subunitcolor=\"black\",  # State border color\n",
    "    showcountries=False,  # Hide country borders to focus on US\n",
    "    center={\"lat\": 41.6032, \"lon\": -73.0877},  # Center map around Connecticut\n",
    "    lataxis_range=[40, 43],  # Latitude range to zoom in on Connecticut\n",
    "    lonaxis_range=[-75, -71],  # Longitude range to zoom in on Connecticut\n",
    ")\n",
    "\n",
    "# Customize the layout\n",
    "#fig.update_layout(\n",
    "    width=1000,\n",
    "    height=600,\n",
    "    title_x=0.5  # Center the title\n",
    ")\n",
    "\n",
    "# Display the plot\n",
    "#fig.show()\n"
   ]
  },
  {
   "cell_type": "code",
   "execution_count": null,
   "id": "fe83a501-f6eb-4566-bdd9-0b25d9930457",
   "metadata": {},
   "outputs": [],
   "source": [
    "import matplotlib.pyplot as plt\n",
    "import pandas as pd\n",
    "import geopandas as gpd\n",
    "from shapely.geometry import Point\n",
    "import warnings\n",
    "\n",
    "# Assuming clean_df is your DataFrame with the data\n",
    "# If not, replace clean_df with your actual DataFrame name\n",
    "\n",
    "# Group by Town and calculate the total Sale Amount\n",
    "grouped_df = rs_data_df.groupby('Town').agg({\n",
    "    'Sale Amount': 'sum',\n",
    "    'Latitude': 'mean',\n",
    "    'Longitude': 'mean'\n",
    "}).sort_values('Sale Amount', ascending=False)\n",
    "\n",
    "# Get the top 5 towns\n",
    "top_5_towns = grouped_df.head(5)\n",
    "\n",
    "# Create a GeoDataFrame\n",
    "gdf = gpd.GeoDataFrame(\n",
    "    top_5_towns, \n",
    "    geometry=[Point(xy) for xy in zip(top_5_towns.Longitude, top_5_towns.Latitude)],\n",
    "    crs=\"EPSG:4326\"\n",
    ")\n",
    "\n",
    "# Create the plot\n",
    "fig, ax = plt.subplots(figsize=(4, 15))\n",
    "\n",
    "\n",
    "# Plot the top 5 towns\n",
    "gdf.plot(ax=ax, markersize=100, color='red', alpha=0.7)\n",
    "\n",
    "# Annotate the towns\n",
    "for idx, row in gdf.iterrows():\n",
    "    ax.annotate(idx, (row.Longitude, row.Latitude), xytext=(5, 5), \n",
    "                textcoords=\"offset points\", fontsize=10, fontweight='bold')\n",
    "\n",
    "# Customize the plot\n",
    "plt.title('Top 5 Towns by Total Sale Amount', fontsize=16)\n",
    "ax.set_axis_off()\n",
    "\n",
    "# Add a legend\n",
    "for i, (town, data) in enumerate(top_5_towns.iterrows(), 1):\n",
    "    plt.plot([], [], 'o', color='red', alpha=0.7, \n",
    "             label=f\"{i}. {town}: ${data['Sale Amount']:,.0f}\")\n",
    "plt.legend(loc='best', title='Towns by Sale Amount', title_fontsize='7', fontsize='7')\n",
    "\n",
    "plt.tight_layout()\n",
    "\n",
    "# Save the map as an image file\n",
    "plt.savefig('top_5_towns_sales_map.png', dpi=300, bbox_inches='tight')\n",
    "\n",
    "# Display the plot\n",
    "plt.show()\n"
   ]
  },
  {
   "cell_type": "code",
   "execution_count": null,
=======
   "execution_count": 67,
>>>>>>> 13833d311cea42b1375611bc12f87eeee02daa0d
   "id": "6b09b089-5904-418c-b5f1-81b56e816a05",
   "metadata": {},
   "outputs": [],
   "source": [
    "first_col = rs_data_df.pop('Index')\n",
    "rs_data_df.insert(0, 'Index', first_col)\n",
    "rs_data_df.head()"
   ]
  },
  {
   "cell_type": "code",
   "execution_count": null,
   "id": "da2e5e38-66f5-442d-a95e-5c12d98f99fe",
   "metadata": {},
   "outputs": [],
   "source": [
    "rs_data_df['Sale Amount'] = pd.to_numeric(rs_data_df['Sale Amount'], errors = 'coerce')\n",
    "rs_data_res_type = rs_data_df.groupby('List Year')['Sale Amount'].sum()\n",
    "rs_data_res_type"
   ]
  },
  {
   "cell_type": "code",
   "execution_count": null,
   "id": "1b459fd2-516f-4e6c-bea0-b26d03074fcf",
   "metadata": {},
   "outputs": [],
   "source": [
    "#Analysis by year w/ graph\n",
    "\n",
    "fig = plt.figure(figsize=(15,6))\n",
    "x = rs_data_res_type.index\n",
    "y = rs_data_res_type\n",
    "\n",
    "bar_width = 0.5\n",
    "edgecolor = 'black'\n",
    "\n",
    "bars = plt.bar(x, y, bar_width, color=\"y\", ec=edgecolor, lw=1)\n",
    "plt.ylabel('Sale Amount')\n",
    "plt.xlabel('List Year')\n",
    "plt.title('House Sale Amount in CT 2006 to 2022') \n",
    "plt.grid(True,linestyle=':', alpha=0.7)\n",
    "plt.xlim(2005, x.max()+1)\n",
    "plt.xticks(x, rs_data_res_type.index)\n",
    "\n",
    "for bar in bars:\n",
    "        height = bar.get_height()\n",
    "\n",
    "plt.show()"
   ]
  },
  {
   "cell_type": "code",
   "execution_count": null,
   "id": "1439a877-c08e-46ee-b154-48fef5c00e0b",
   "metadata": {},
   "outputs": [],
   "source": [
    "rs_data_df['Sale Amount'] = pd.to_numeric(rs_data_df['Sale Amount'], errors = 'coerce')\n",
    "rs_data_res_sale = rs_data_df.groupby('Town')['Sale Amount'].sum()\n",
    "rs_data_res_sale"
   ]
  },
  {
   "cell_type": "code",
   "execution_count": null,
   "id": "64b43c54-d451-4b59-beff-0c7566148536",
   "metadata": {},
   "outputs": [],
   "source": [
    "mean = rs_data_df['Assessed Value'].groupby(rs_data_df['Town']).mean()\n",
    "median = rs_data_df['Assessed Value'].groupby(rs_data_df['Town']).median()\n",
    "var = rs_data_df['Assessed Value'].groupby(rs_data_df['Town']).var()\n",
    "std = rs_data_df['Assessed Value'].groupby(rs_data_df['Town']).std()\n",
    "sem = rs_data_df['Assessed Value'].groupby(rs_data_df['Town']).sem()\n",
    "\n",
    "sum_stat_av = pd.DataFrame({\"Mean Assessed Value \":mean, \n",
    "                            \"Median Assessed Value\":median, \n",
    "                           \"Assessed Value Variance\":var, \n",
    "                           \"Assessed Value Std. Dev.\":std, \n",
    "                           \"Assessed Value Std. Err.\":sem})\n",
    "\n",
    "sum_stat_av"
   ]
  },
  {
   "cell_type": "code",
   "execution_count": null,
   "id": "c73a4852-b85c-435d-afb8-e58e5abad5c7",
   "metadata": {},
   "outputs": [],
   "source": [
    "mean = rs_data_df['Sale Amount'].groupby(rs_data_df['Town']).mean()\n",
    "median = rs_data_df['Sale Amount'].groupby(rs_data_df['Town']).median()\n",
    "var = rs_data_df['Sale Amount'].groupby(rs_data_df['Town']).var()\n",
    "std = rs_data_df['Sale Amount'].groupby(rs_data_df['Town']).std()\n",
    "sem = rs_data_df['Sale Amount'].groupby(rs_data_df['Town']).sem()\n",
    "\n",
    "sum_stat_sv = pd.DataFrame({\"Mean Sale \":mean, \n",
    "                            \"Median Mean Sale \":median, \n",
    "                           \"Sale Amount Variance\":var, \n",
    "                           \"Sale Amount Std. Dev.\":std, \n",
    "                           \"Sale Amount\":sem})\n",
    "\n",
    "sum_stat_sv"
   ]
  },
  {
   "cell_type": "code",
   "execution_count": null,
   "id": "e4d82d4f-a4f5-4745-876c-99754fb33b8f",
   "metadata": {},
   "outputs": [],
   "source": [
    "# Merge the two dataframes on the 'Town' index\n",
    "merged_df = pd.merge(sum_stat_av, sum_stat_sv, left_index=True, right_index=True, suffixes=('_assessed', '_sale'))\n",
    "\n",
    "# Plotting the grouped bar chart\n",
    "fig, ax = plt.subplots(figsize=(12, 6))\n",
    "\n",
    "# Defining the bar width\n",
    "bar_width = 0.35\n",
    "\n",
    "# Create a range for the x-axis\n",
    "towns = np.arange(len(merged_df))\n",
    "\n",
    "# Plotting the bars\n",
    "ax.bar(towns - bar_width/2, merged_df['Mean Assessed Value '], width=bar_width, label='Mean Assessed Value', color='teal')\n",
    "ax.bar(towns + bar_width/2, merged_df['Mean Sale '], width=bar_width, label='Mean Sale Value', color='coral')\n",
    "\n",
    "# Add labels and title\n",
    "ax.set_xlabel('Town')\n",
    "ax.set_ylabel('Value')\n",
    "ax.set_title('Comparison of Mean Assessed Value and Mean Sale Value by Town')\n",
    "ax.set_xticks(towns)\n",
    "ax.set_xticklabels(merged_df.index, rotation=90)\n",
    "\n",
    "# Adding a legend\n",
    "ax.legend()\n",
    "\n",
    "# Show the plot\n",
    "plt.tight_layout()\n",
    "plt.show()\n"
   ]
  },
  {
   "cell_type": "code",
   "execution_count": null,
   "id": "d3ef28e3-216a-49e7-994e-421c7337f74b",
   "metadata": {},
   "outputs": [],
   "source": []
  },
  {
   "cell_type": "code",
   "execution_count": null,
   "id": "fb9076e4-9b13-48e9-9f47-0592040aae1f",
   "metadata": {},
   "outputs": [],
   "source": [
    "#Analysis on residential type"
   ]
  },
  {
   "cell_type": "code",
   "execution_count": null,
   "id": "44dcfd21-60ce-47cb-9813-5861aaa5c51f",
   "metadata": {},
   "outputs": [],
   "source": [
    "#Analysis by state"
   ]
  },
  {
   "cell_type": "code",
   "execution_count": null,
   "id": "cf6c2068-e18f-4e31-99fa-b7ebe41e1438",
   "metadata": {},
   "outputs": [],
   "source": [
    "#Analysis by year (2008) & (2020)"
   ]
  },
  {
   "cell_type": "code",
   "execution_count": null,
   "id": "9c04ef66-e3c7-4916-b07e-0a35dc186662",
   "metadata": {},
   "outputs": [],
   "source": [
    "#Analysis by price"
   ]
  },
  {
   "cell_type": "code",
   "execution_count": null,
   "id": "905c8d32-ba5d-4250-a5fd-352ab030a2bc",
   "metadata": {},
   "outputs": [],
   "source": [
    "#Future prediction (mean, median, mode)"
   ]
  },
  {
   "cell_type": "code",
   "execution_count": null,
   "id": "f536ceb4-60e6-402f-9078-1946ec15e5a0",
   "metadata": {},
   "outputs": [],
   "source": [
    "#Visualize data/trend for house prices"
   ]
  },
  {
   "cell_type": "code",
   "execution_count": null,
   "id": "acddd164-8ec6-44b8-a62e-63be4f90eb25",
   "metadata": {},
   "outputs": [],
   "source": [
    "#Analysis and comments/insights"
   ]
  }
 ],
 "metadata": {
  "kernelspec": {
   "display_name": "Python 3 (ipykernel)",
   "language": "python",
   "name": "python3"
  },
  "language_info": {
   "codemirror_mode": {
    "name": "ipython",
    "version": 3
   },
   "file_extension": ".py",
   "mimetype": "text/x-python",
   "name": "python",
   "nbconvert_exporter": "python",
   "pygments_lexer": "ipython3",
   "version": "3.10.14"
  }
 },
 "nbformat": 4,
 "nbformat_minor": 5
}
