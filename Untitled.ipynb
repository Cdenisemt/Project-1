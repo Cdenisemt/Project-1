{
 "cells": [
  {
   "cell_type": "code",
   "execution_count": null,
   "id": "4790875d-8ac5-4994-b277-e7d67e2bb97a",
   "metadata": {},
   "outputs": [],
   "source": [
    "# Dependencies and Setup\n",
    "import pandas as pd\n",
    "from pathlib import Path\n",
    "import csv\n",
    "import os\n",
    "import matplotlib\n",
    "import matplotlib.pyplot as plt\n",
    "import numpy as np\n",
    "import hvplot.pandas\n",
    "import requests\n",
    "import gmaps\n",
    "\n",
    "# Import API key\n",
    "from api_keys import geoapify_key\n",
    "gmaps.configure(api_key = geoapify_key)\n",
    "\n",
    "# File to Load\n",
    "data_to_load = Path(\"Resources/Real_Estate_data.csv\")\n",
    "\n",
    "# Read Real Estate Data File and store into Pandas DataFrames\n",
    "real_estate_data_df = pd.read_csv(data_to_load, low_memory=False)\n",
    "\n",
    "# view the data\n",
    "real_estate_data_df.head()"
   ]
  },
  {
   "cell_type": "code",
   "execution_count": 7,
   "id": "32395634-26ae-4044-a71c-fbf19bf29285",
   "metadata": {},
   "outputs": [],
   "source": []
  },
  {
   "cell_type": "code",
   "execution_count": null,
   "id": "2a834ffc-47ca-4bfd-be75-256506bf42ba",
   "metadata": {},
   "outputs": [],
   "source": []
  },
  {
   "cell_type": "code",
   "execution_count": null,
   "id": "31f1fcbc-2749-442a-b7a3-57dd47bb811b",
   "metadata": {},
   "outputs": [],
   "source": []
  },
  {
   "cell_type": "code",
   "execution_count": null,
   "id": "705efcc2-3238-48eb-b704-2322c83d830e",
   "metadata": {},
   "outputs": [],
   "source": []
  }
 ],
 "metadata": {
  "kernelspec": {
   "display_name": "Python 3 (ipykernel)",
   "language": "python",
   "name": "python3"
  },
  "language_info": {
   "codemirror_mode": {
    "name": "ipython",
    "version": 3
   },
   "file_extension": ".py",
   "mimetype": "text/x-python",
   "name": "python",
   "nbconvert_exporter": "python",
   "pygments_lexer": "ipython3",
   "version": "3.12.4"
  }
 },
 "nbformat": 4,
 "nbformat_minor": 5
}
